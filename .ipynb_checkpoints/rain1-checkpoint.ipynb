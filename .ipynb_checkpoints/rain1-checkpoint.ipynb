{
 "cells": [
  {
   "cell_type": "markdown",
   "metadata": {},
   "source": [
    "# 파이썬으로 시작하는 코딩\n",
    "브라이언 칼링/말리 아데어\n"
   ]
  },
  {
   "cell_type": "markdown",
   "metadata": {},
   "source": [
    "# 빗방울 공장\n",
    "\n",
    "\n",
    "비내리기\n",
    "\n",
    "    "
   ]
  },
  {
   "cell_type": "code",
   "execution_count": 1,
   "metadata": {},
   "outputs": [
    {
     "name": "stdout",
     "output_type": "stream",
     "text": [
      "pygame 1.9.6\n",
      "Hello from the pygame community. https://www.pygame.org/contribute.html\n"
     ]
    }
   ],
   "source": [
    "import pygame, sys, random, time\n",
    "from pygame.locals import *"
   ]
  },
  {
   "cell_type": "code",
   "execution_count": 2,
   "metadata": {},
   "outputs": [],
   "source": [
    "pygame.init()\n",
    "pygame.display.set_caption(\"rain\")\n",
    "screen = pygame.display.set_mode((1000, 6000))\n",
    "clock = pygame.time.Clock()\n",
    "raindrop_spawn_time=0"
   ]
  },
  {
   "cell_type": "code",
   "execution_count": null,
   "metadata": {},
   "outputs": [],
   "source": [
    "rain_y =0\n",
    "rain_x =400"
   ]
  },
  {
   "cell_type": "code",
   "execution_count": null,
   "metadata": {},
   "outputs": [],
   "source": [
    "while 1:\n",
    "\tclock.tick(60)\n",
    "\tfor event in pygame.event.get():\n",
    "\t\tif event.type == pygame.QUIT:\n",
    "\t\t\tsys.exit()\n",
    "\n",
    "\tscreen.fill((255,255,255))\n",
    "    rain_y +=4\n",
    "\tpygame.draw.line(screen,(000,000,000), (rain.x, rain.y),(rain.x, rain.y+5),5)\n",
    "\n",
    "\tpygame.display.update()"
   ]
  },
  {
   "cell_type": "code",
   "execution_count": 3,
   "metadata": {},
   "outputs": [],
   "source": [
    "mike_umbrella_image = pygame.image.load(\"images/Mike_umbrella.png\").convert()\n",
    "cloud_image = pygame.image.load(\"images/cloud.png\").convert()\n",
    "mike_image = pygame.image.load(\"images/Mike.png\").convert()\n",
    "last_hit_time = 0"
   ]
  },
  {
   "cell_type": "code",
   "execution_count": 4,
   "metadata": {},
   "outputs": [],
   "source": [
    "class Mike:\n",
    "\tdef __init__(self):\n",
    "\t\tself.x =400\n",
    "\t\tself.y =400\n",
    "\tdef draw(self):\n",
    "\t\tif time.time() >last_hit_time +1:\n",
    "\t\t\tscreen.blit(mike_image,(self.x, self.y))\n",
    "\t\telse:\n",
    "\t\t\tscreen.blit(mike_umbrella_image,(self.x, self.y))\n",
    "\tdef hit_by(self, raindrop):\n",
    "\t\treturn pygame.Rect(self.x, self.y, 170, 192).collidepoint((raindrop.x, raindrop.y))\n"
   ]
  },
  {
   "cell_type": "code",
   "execution_count": 5,
   "metadata": {},
   "outputs": [],
   "source": [
    "class Raindrop:\n",
    "\tdef __init__(self, x, y):\n",
    "\t\tself.x = x\n",
    "\t\tself.y = y\n",
    "\t\tself.speed = random.randint(5,18)\n",
    "\n",
    "\tdef move(self):\n",
    "\t\tself.y += self.speed\n",
    "\t\n",
    "\tdef off_screen(self):\n",
    "\t\treturn self.y >800\n",
    "\n",
    "\tdef draw(self):\n",
    "\t\tpygame.draw.line(screen,(150,150,150), (self.x, self.y),(self.x, self.y+5),5)\n",
    "\t\t"
   ]
  },
  {
   "cell_type": "code",
   "execution_count": 6,
   "metadata": {},
   "outputs": [],
   "source": [
    "class Cloud:\n",
    "\tdef __init__(self):\n",
    "\t\tself.x =300\n",
    "\t\tself.y =50\n",
    "\tdef draw(self):\n",
    "\t\tscreen.blit(cloud_image, (self.x, self.y))\n",
    "\tdef rain(self):\n",
    "\t\traindrops.append(Raindrop(random.randint(self.x, self.x+300), self.y+100))\n",
    "\tdef move(self):\n",
    "\t\tif pressed_keys[K_RIGHT]:\n",
    "\t\t\tself.x +=1\n",
    "\t\tif pressed_keys[K_LEFT]:\n",
    "\t\t\tself.x -=1"
   ]
  },
  {
   "cell_type": "code",
   "execution_count": 7,
   "metadata": {},
   "outputs": [],
   "source": [
    "raindrops = []\n",
    "mike = Mike()\n",
    "cloud = Cloud()"
   ]
  },
  {
   "cell_type": "code",
   "execution_count": null,
   "metadata": {},
   "outputs": [],
   "source": [
    "while 1:\n",
    "\tclock.tick(60)\n",
    "\tfor event in pygame.event.get():\n",
    "\t\tif event.type == pygame.QUIT:\n",
    "\t\t\tsys.exit()\n",
    "\tpressed_keys = pygame.key.get_pressed()\n",
    "\n",
    "\tscreen.fill((255,255,255))\n",
    "\tmike.draw()\n",
    "\tcloud.draw()\n",
    "\tcloud.rain()\n",
    "\tcloud.move()\n",
    "\ti=0\n",
    "\twhile i < len(raindrops):\n",
    "\t\traindrops[i].move()\n",
    "\t\traindrops[i].draw()\n",
    "\t\tflag = False\n",
    "\t\tif raindrops[i].off_screen():\n",
    "\t\t\tflag = True\n",
    "\t\tif mike.hit_by(raindrops[i]):\n",
    "\t\t\tflag =True\n",
    "\t\t\tlast_hit_time = time.time()\n",
    "\t\tif flag:\n",
    "\t\t\tdel raindrops[i]\n",
    "\t\t\ti -= 1\n",
    "\t\ti += 1\n",
    "\n",
    "\tpygame.display.update()\n"
   ]
  }
 ],
 "metadata": {
  "kernelspec": {
   "display_name": "Python 3",
   "language": "python",
   "name": "python3"
  },
  "language_info": {
   "codemirror_mode": {
    "name": "ipython",
    "version": 3
   },
   "file_extension": ".py",
   "mimetype": "text/x-python",
   "name": "python",
   "nbconvert_exporter": "python",
   "pygments_lexer": "ipython3",
   "version": "3.5.2"
  }
 },
 "nbformat": 4,
 "nbformat_minor": 2
}
