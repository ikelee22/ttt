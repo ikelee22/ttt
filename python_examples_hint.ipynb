{
 "cells": [
  {
   "cell_type": "markdown",
   "metadata": {},
   "source": [
    "<img src='./img/intel-logo.jpg' width=30%, Fig1> \n",
    "\n",
    "# 파이썬 기초강의\n",
    "<font size=5><b>01. 연 습 문 제<b></font>\n",
    "\n",
    "<div align='right'>이  인  구 (Ike Lee)</div>\n"
   ]
  },
  {
   "cell_type": "markdown",
   "metadata": {
    "ExecuteTime": {
     "end_time": "2019-11-30T11:21:19.607744Z",
     "start_time": "2019-11-30T11:21:19.603732Z"
    }
   },
   "source": [
    "## Example : 1\n",
    "\n",
    "### 직육면체의 부피를 구해보자\n",
    "<img src='./img/volume.png' width=50%, Fig2>"
   ]
  },
  {
   "cell_type": "code",
   "execution_count": null,
   "metadata": {
    "ExecuteTime": {
     "end_time": "2019-11-30T11:21:37.385245Z",
     "start_time": "2019-11-30T11:21:37.382437Z"
    }
   },
   "outputs": [],
   "source": [
    "# 변수 설정 \n",
    "length = 5\n",
    "height = 5\n",
    "width = 20\n"
   ]
  },
  {
   "cell_type": "code",
   "execution_count": null,
   "metadata": {
    "ExecuteTime": {
     "end_time": "2019-11-30T11:21:40.575938Z",
     "start_time": "2019-11-30T11:21:40.572249Z"
    }
   },
   "outputs": [],
   "source": [
    "\n",
    "\n",
    "\n",
    "\n",
    "\n",
    "\n",
    "\n",
    "volume = length*width*height\n",
    "print('직육면체의 부피 : %d'%volume)"
   ]
  },
  {
   "cell_type": "code",
   "execution_count": null,
   "metadata": {
    "ExecuteTime": {
     "end_time": "2019-11-30T11:21:43.800555Z",
     "start_time": "2019-11-30T11:21:43.797100Z"
    }
   },
   "outputs": [],
   "source": [
    "\n",
    "\n",
    "\n",
    "\n",
    "\n",
    "\n",
    "\n",
    "\n",
    "\n",
    "length = 10 # 다시 할당하면 됨\n",
    "volume = length*width*height\n",
    "print('직육면체의 부피 : %d'%volume)\n"
   ]
  },
  {
   "cell_type": "markdown",
   "metadata": {},
   "source": [
    "## Example : 2\n",
    "### for 를 사용해서 암컷 개를 찾으세요. and를 사용해서 일치하는것을 찾으세요 \n",
    "suspects = [['낙타', '포유류','암컷'], ['상어','어류','숫컷'], ['푸들','개','암컷']]\n",
    "\n",
    "\n",
    "\n",
    "\n",
    "\n",
    "\n",
    "\n"
   ]
  },
  {
   "cell_type": "code",
   "execution_count": null,
   "metadata": {},
   "outputs": [],
   "source": [
    "\n",
    "\n",
    "\n",
    "\n",
    "\n",
    "\n",
    "\n",
    "suspects = [['낙타', '포유류','암컷'], ['상어','어류','숫컷'], ['푸들','개','암컷']]\n",
    "for suspect in suspects:\n",
    "    if suspect[1] == '개' and suspect[2] =='암컷':\n",
    "        print('범인은', suspect[0], '입니다')"
   ]
  },
  {
   "cell_type": "markdown",
   "metadata": {},
   "source": [
    "## Example : 3\n",
    "### 연이율구하기 \n",
    "```\n",
    " 2017년 7월 2일 연이율 3% 계좌를 생성하여 3000000원을 입금한 경우\n",
    " 2018년 7월 2일 계좌 총액을 계산하여 출력하는 프로그램을 작성하십시오.\n",
    " 프로그램에서 입금액을 위한 변수, 연이율을 위한 변수를 만들어 사용하십시오.\n",
    "\n",
    "위의 프로그램을  입금액과 연이율을 입력받아 총액을 출력하도록 변경하십시오.\n",
    "언어 : python3\n",
    "입력 설명 :\n",
    "\n",
    "다음은 입금액과 연이율의 입력예입니다.\n",
    "===============================\n",
    "입금액(원), 연이율(%):: 4000, 3\n",
    "출력 설명 :\n",
    "\n",
    "다음과 같이 1년 후 총액을 출력합니다.\n",
    "===============================\n",
    "4120.0\n",
    "\n",
    "샘플 입력 : 4000, 3\n",
    "샘플 출력 : 4120.0\n",
    "``` "
   ]
  },
  {
   "cell_type": "code",
   "execution_count": null,
   "metadata": {
    "ExecuteTime": {
     "end_time": "2019-11-30T15:43:00.886088Z",
     "start_time": "2019-11-30T15:42:58.219727Z"
    },
    "scrolled": true
   },
   "outputs": [],
   "source": [
    "\n",
    "\n",
    "\n",
    "\n",
    "\n",
    "\n",
    "\n",
    "money, ratio = eval(input('입금액(원), 연이율(%)::'))\n",
    "print(money*(1+(1/100)*ratio))"
   ]
  },
  {
   "cell_type": "markdown",
   "metadata": {},
   "source": [
    "## Example : 4\n",
    "### 삼각형 넓이를 구하시오\n",
    "```\n",
    "\n",
    "삼각형의 세변의 길이가 3,4,5인 경우 삼각형 넓이는 다음과 같이 계산합니다.\n",
    "     x = (3 + 4 + 5)/2\n",
    "     넒이는   x(x-3)(x-4)(x-5)  의 양의 제곱근\n",
    "언어 : python3\n",
    "입력 설명 :\n",
    "\n",
    "다음과 같이 삼각형의 세변의 길이를 입력합니다.\n",
    "======================\n",
    "삼각형 세변의 길이(comma로 구분): 3,4,5\n",
    "출력 설명 :\n",
    "\n",
    "다음과 같이 삼각형의 넓이를 출력합니다.\n",
    "======================\n",
    "6.0\n",
    "\n",
    "샘플 입력 : 3,4,5\n",
    "샘플 출력 : 6.0\n",
    "```"
   ]
  },
  {
   "cell_type": "code",
   "execution_count": null,
   "metadata": {
    "ExecuteTime": {
     "end_time": "2019-11-30T15:43:46.733074Z",
     "start_time": "2019-11-30T15:43:41.925006Z"
    }
   },
   "outputs": [],
   "source": [
    "\n",
    "\n",
    "\n",
    "\n",
    "\n",
    "\n",
    "\n",
    "a,b,c = eval(input())\n",
    "x = (a+b+c)/2\n",
    "area = (x*(x-a)*(x-b)*(x-c))**(0.5)\n",
    "print(area)"
   ]
  },
  {
   "cell_type": "markdown",
   "metadata": {},
   "source": [
    "<img src='./img/C1.jpg'> \n"
   ]
  },
  {
   "cell_type": "markdown",
   "metadata": {},
   "source": [
    "## Example : 5\n",
    "### for 를 사용해서 암컷 개를 찾으세요. and를 사용해서 일치하는것을 찾으세요 "
   ]
  },
  {
   "cell_type": "code",
   "execution_count": null,
   "metadata": {},
   "outputs": [],
   "source": [
    "suspects = [['낙타', '포유류','암컷'], ['상어','어류','숫컷'], ['푸들','개','암컷']]\n",
    "\n",
    "\n",
    "\n",
    "\n",
    "\n",
    "\n",
    "\n",
    "for suspect in suspects:\n",
    "    if suspect[1] == '개' and suspect[2] =='암컷':\n",
    "        print('범인은', suspect[0], '입니다')"
   ]
  },
  {
   "cell_type": "markdown",
   "metadata": {},
   "source": [
    "## Example : 6\n",
    "### random을 이용해서 중복되지 않는 카드 두 장을 뽑도록 빈칸을 채우세요. "
   ]
  },
  {
   "cell_type": "code",
   "execution_count": null,
   "metadata": {},
   "outputs": [],
   "source": [
    "\n",
    "\n",
    "\n",
    "\n",
    "\n",
    "\n",
    "\n",
    "import random\n",
    "cities = ['서울','부산','울산','인천' ]\n",
    "print(random.sample(cities, 2))\n"
   ]
  },
  {
   "cell_type": "markdown",
   "metadata": {},
   "source": [
    "## Example : 7\n",
    "### 다음중 하나를 무작위로 뽑아주세요! \n",
    "annimals = 얼룩말, 황소, 개구리, 참새.\n"
   ]
  },
  {
   "cell_type": "code",
   "execution_count": null,
   "metadata": {},
   "outputs": [],
   "source": [
    "#리스트[]\n",
    "import random\n",
    "\n",
    "\n",
    "\n",
    "\n",
    "\n",
    "\n",
    "\n",
    "annimals = ['얼룩말','황소', '개구리', '참새']\n",
    "print(random.choice(annimals))\n"
   ]
  },
  {
   "cell_type": "markdown",
   "metadata": {},
   "source": [
    "## Example : 8\n",
    "### def 를 이용해서 서로에게 인사하는 문구를 만들어 보세요! \n",
    "가브리엘 님 안녕하세요? \\\n",
    "엘리스 님 안녕하세요? "
   ]
  },
  {
   "cell_type": "code",
   "execution_count": null,
   "metadata": {},
   "outputs": [],
   "source": [
    "def welcome(name):\n",
    "        print(name,'님 안녕하세요?')\n",
    "\n",
    "        \n",
    "        \n",
    "        \n",
    "      \n",
    "        \n",
    "        \n",
    "        \n",
    "        \n",
    "        \n",
    "        \n",
    "welcome('가브리엘')\n",
    "welcome('엘리스')\n"
   ]
  },
  {
   "cell_type": "markdown",
   "metadata": {},
   "source": [
    "## Example : 9\n",
    "### 점수에 따라 학점을 출력 해주세요. \n",
    "철수의 점수는 75점 입니다. 몇 학점 인지 표시해 주세요. \n",
    "A학점은 80< score <=100 \n",
    "B학점은 60< score <=80 \n",
    "C학점은 40< score <=60 "
   ]
  },
  {
   "cell_type": "code",
   "execution_count": null,
   "metadata": {},
   "outputs": [],
   "source": [
    "score =75\n",
    "\n",
    "\n",
    "\n",
    "\n",
    "\n",
    "\n",
    "\n",
    "\n",
    "\n",
    "if 80< score <=100:\n",
    "    print('학점은 A 입니다')\n",
    "if 60< score <=80:\n",
    "    print('학점은 B 입니다')\n",
    "if 40< score <=60:\n",
    "    print('학점은 C 입니다')\n"
   ]
  },
  {
   "cell_type": "markdown",
   "metadata": {},
   "source": [
    "## Example : 10\n",
    "### 변수를 사용해서 매출액을 계산해 주세요. \n",
    "주문서1 - 커피2잔, 홍차4잔, 레몬티5잔 \n",
    "주문서2 - 커피1잔, 홍차1잔, 레몬티5잔 \n",
    "주문서3 - 커피2잔, 홍차3잔, 레몬티1잔 "
   ]
  },
  {
   "cell_type": "code",
   "execution_count": null,
   "metadata": {},
   "outputs": [],
   "source": [
    "\n",
    "\n",
    "\n",
    "\n",
    "\n",
    "\n",
    "\n",
    "coffee =4000\n",
    "tea = 3000\n",
    "lemon =200\n",
    "\n",
    "\n",
    "\n",
    "\n",
    "\n",
    "\n",
    "\n",
    "\n",
    "\n",
    "order1 = (coffee*2 + tea*4 + lemon*5)\n",
    "order2 = (coffee*1 + tea*1 + lemon*5)\n",
    "order3 = (coffee*2 + tea*3 + lemon*1)\n",
    "print(order1+order2+order3)\n"
   ]
  },
  {
   "cell_type": "markdown",
   "metadata": {},
   "source": [
    "## Example : 11\n",
    "### 5바퀴를 도는 레이싱 경주를 하고 있습니다. while 코드를 이용해서 트랙의 수를 카운트하고 5바퀴를 돌면 종료 멧세지를 주세요. \n",
    "반복할 때마다 몇 번째 바퀴인지 출력하세요. \\\n",
    "5바퀴를 돌면 종료 멧세지와 함께 종료해 주세요. \n"
   ]
  },
  {
   "cell_type": "code",
   "execution_count": null,
   "metadata": {},
   "outputs": [],
   "source": [
    "count = 0 \n",
    "while count <5:\n",
    "\n",
    "    \n",
    "    \n",
    "    \n",
    "    \n",
    "    \n",
    "    \n",
    "    \n",
    "    \n",
    "    \n",
    "    \n",
    "    count =count +1\n",
    "    print(count, \"번째 바퀴입니다.\")\n",
    "print('경주가 종료되었습니다!')"
   ]
  },
  {
   "cell_type": "markdown",
   "metadata": {},
   "source": [
    "## Example : 12\n",
    "### 정답을 맟춰보세요.  \n",
    "미국이 수도는 어디인기요? \\\n",
    "보기에서 찾아서 답하게 하세요. \n",
    " 런던,오타와, 파리, 뉴욕\n",
    "틀린 답을 말하면 어느 나라의 수도인지 말해주세요. \n"
   ]
  },
  {
   "cell_type": "code",
   "execution_count": null,
   "metadata": {},
   "outputs": [],
   "source": [
    "while True:\n",
    "    answer = input('런던,오타와,파리,뉴욕 중 미국이 수도는 어디일까요?')\n",
    "\n",
    "    \n",
    "    \n",
    "    \n",
    "    \n",
    "    \n",
    "     \n",
    "    \n",
    "    \n",
    "    \n",
    "    \n",
    "    if answer == '뉴욕':\n",
    "        print('정답입니다. 뉴욕은 미국의 수도 입니다')\n",
    "        break\n",
    "    elif answer == '오타와':\n",
    "        print('오타와는 캐나다의 수도 입니다')\n",
    "    elif answer == '파리':\n",
    "        print('파리는 프랑스의 수도 입니다')\n",
    "    elif answer == '런던':\n",
    "        print('런던은 영국의 수도 입니다')\n",
    "    else:\n",
    "        print('보기에서 골라주세요')\n",
    "   "
   ]
  },
  {
   "cell_type": "markdown",
   "metadata": {},
   "source": [
    "## Example : 13\n",
    "### 물건을 교환 해주세요   \n",
    "철수는 마트에서 형광등을 샀습니다. 그런데 LED 전구가 전기 효율이 좋아 형광등을 LED 전구로 교환 하고자 합니다. \n",
    "형광등 3개를 LED 3개로 바꾸어 주세요.  \n",
    "형광등, 형광등, 형광등 ==> LED 전구, LED 전구, LED전구"
   ]
  },
  {
   "cell_type": "code",
   "execution_count": null,
   "metadata": {},
   "outputs": [],
   "source": [
    "전구 = ['형광등', '형광등', '형광등']\n",
    "\n",
    "\n",
    "\n",
    "\n",
    "\n",
    "\n",
    "\n",
    "for i in range(3):\n",
    "    전구[i] = 'LED 전구'\n",
    "print(전구)\n",
    "  "
   ]
  },
  {
   "cell_type": "markdown",
   "metadata": {},
   "source": [
    "## Example : 14\n",
    "### 반복하기   \n",
    "동물원 원숭이 10 마리에게 인사하기. \n",
    "for을 사용해서 10마리에게 한번에 인사하기 코드를 적어주세요.\n"
   ]
  },
  {
   "cell_type": "code",
   "execution_count": null,
   "metadata": {},
   "outputs": [],
   "source": [
    "for num in range(10):\n",
    " \n",
    "\n",
    "\n",
    "\n",
    "\n",
    "\n",
    "\n",
    "    print ('안녕 원숭이', num)   "
   ]
  },
  {
   "cell_type": "markdown",
   "metadata": {},
   "source": [
    "### print Options"
   ]
  },
  {
   "cell_type": "code",
   "execution_count": null,
   "metadata": {},
   "outputs": [],
   "source": [
    "my_str ='My name is %s' % 'Lion'\n",
    "print(my_str)"
   ]
  },
  {
   "cell_type": "code",
   "execution_count": null,
   "metadata": {},
   "outputs": [],
   "source": [
    "'%d %d' % (1,2)"
   ]
  },
  {
   "cell_type": "code",
   "execution_count": null,
   "metadata": {},
   "outputs": [],
   "source": [
    "'%f %f' % (1,2)"
   ]
  },
  {
   "cell_type": "code",
   "execution_count": null,
   "metadata": {},
   "outputs": [],
   "source": [
    "print('집단지성', end='/')"
   ]
  },
  {
   "cell_type": "code",
   "execution_count": null,
   "metadata": {},
   "outputs": [],
   "source": [
    "print('집단지성', end='통합하자')"
   ]
  },
  {
   "cell_type": "code",
   "execution_count": null,
   "metadata": {},
   "outputs": [],
   "source": []
  }
 ],
 "metadata": {
  "kernelspec": {
   "display_name": "Python 3",
   "language": "python",
   "name": "python3"
  },
  "language_info": {
   "codemirror_mode": {
    "name": "ipython",
    "version": 3
   },
   "file_extension": ".py",
   "mimetype": "text/x-python",
   "name": "python",
   "nbconvert_exporter": "python",
   "pygments_lexer": "ipython3",
   "version": "3.5.2"
  },
  "toc": {
   "base_numbering": 1,
   "nav_menu": {},
   "number_sections": true,
   "sideBar": true,
   "skip_h1_title": true,
   "title_cell": "강의목차",
   "title_sidebar": "Contents",
   "toc_cell": true,
   "toc_position": {},
   "toc_section_display": true,
   "toc_window_display": true
  }
 },
 "nbformat": 4,
 "nbformat_minor": 2
}
