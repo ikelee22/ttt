{
 "cells": [
  {
   "cell_type": "markdown",
   "metadata": {},
   "source": [
    "# 파이썬으로 시작하는 코딩\n",
    "브라이언 칼링/말리 아데어\n"
   ]
  },
  {
   "cell_type": "markdown",
   "metadata": {},
   "source": [
    "# 빗방울 공장\n",
    "\n",
    "## 비내리기\n",
    "\n",
    "    "
   ]
  },
  {
   "cell_type": "markdown",
   "metadata": {},
   "source": [
    "### 셋업(Setup) : 프로그램에 필요한 것들을 불러오고, 준비하는 곳입니다. 모둘을 불러오거나 (import), 변수의 초기값을 정하거나, 이지미 사운드 파일이 어디에 있는지 적어두는 곳입니다. "
   ]
  },
  {
   "cell_type": "code",
   "execution_count": 1,
   "metadata": {},
   "outputs": [
    {
     "name": "stdout",
     "output_type": "stream",
     "text": [
      "pygame 1.9.6\n",
      "Hello from the pygame community. https://www.pygame.org/contribute.html\n"
     ]
    }
   ],
   "source": [
    "import pygame, sys, random, time\n",
    "from pygame.locals import *\n",
    "pygame.init()                                 # pygame 초기화\n",
    "pygame.display.set_caption(\"rain\")            # 제목 달기\n",
    "screen = pygame.display.set_mode((640, 480))  # 스크린 사이즈 지정. (가로(X) , 세로(Y)) \n",
    "clock = pygame.time.Clock()                   # 시계함수\n",
    "raindrop_spawn_time=0"
   ]
  },
  {
   "cell_type": "markdown",
   "metadata": {},
   "source": [
    "### 클래스(Classes) : 다양한 객체를 정의하고, 그 객체가 사용하는 함수를 정의 하는곳 입니다. 여러 클래스를 만들때 순서는 상관없습니다.  클래스 안의 함수는 모두 한 번씩 들여씁니다. 함수 역시 순서는 중요하지 않습니다. 클래스의 이름을 쓴 다음 콜론(:)을 씁니다. 클래스 이름은 일반적으로 대문자로 시작합니다. 그리고 인스턴스를 쓸 때는 소문자로 시작합니다. \n",
    "\n",
    "빗방울 raindrop 1개는 빗방울 클래스 class Raindrop 의 인스턴스 입니다. \n",
    "새로운 빗방울을 만들면 순서대로 번호를 부합니다. 4번빗방울의 경우,  __init__() 함수는 self를 4번 빗방울로 바꾸고 x좌표와 y좌표을 줍니다.  self 라는 단어를 사용해서 1번 빗방울은 클래스 안의 속성들을 1번 빗방울에 적용, 2번은 2번에 적용..."
   ]
  },
  {
   "cell_type": "code",
   "execution_count": 2,
   "metadata": {},
   "outputs": [],
   "source": [
    "class Raindrop:\n",
    "\tdef __init__(self):                   # 시작의 뜻. \n",
    "\t\tself.x = random.randint(0, 640)   # 0에서 640중에서 렌덤하게 사용. \n",
    "\t\tself.y = -5\n",
    "\n",
    "\tdef move(self):                       # y 좌표만 이동. \n",
    "\t\tself.y += 7\n",
    "\t\n",
    "\tdef draw(self):\n",
    "\t\tpygame.draw.line(screen,(150,150,150), (self.x, self.y),(self.x, self.y+5),5)  \n",
    "        # 화면, 색, 위치, 굵기.\n",
    "\t\t"
   ]
  },
  {
   "cell_type": "markdown",
   "metadata": {},
   "source": [
    "### 리스트(List) : 리스트 부분은 클래스의 인스턴스를 만드는 곳이며 들여쓰기를 하지 않습니다."
   ]
  },
  {
   "cell_type": "code",
   "execution_count": 3,
   "metadata": {},
   "outputs": [],
   "source": [
    "raindrops = []"
   ]
  },
  {
   "cell_type": "markdown",
   "metadata": {},
   "source": [
    "### 게임 루프 : 게임 루프는 while 1: 시작 합니다. 앞에서 만든 함수를 불러오고 실행시키는 곳이므로 들여 쓰기에 특히 주의해야 합니다. 코드를 쓸 때 한 줄을 빈 줄로 띄워도 되고, 띄우지 않아도 됩니다.  파이썬은 줄 띄우기에 민감하지 않습니다. "
   ]
  },
  {
   "cell_type": "code",
   "execution_count": 4,
   "metadata": {},
   "outputs": [
    {
     "ename": "SystemExit",
     "evalue": "",
     "output_type": "error",
     "traceback": [
      "An exception has occurred, use %tb to see the full traceback.\n",
      "\u001b[0;31mSystemExit\u001b[0m\n"
     ]
    },
    {
     "name": "stderr",
     "output_type": "stream",
     "text": [
      "/home/intel/imobilenet/myvenv/lib/python3.5/site-packages/IPython/core/interactiveshell.py:3334: UserWarning: To exit: use 'exit', 'quit', or Ctrl-D.\n",
      "  warn(\"To exit: use 'exit', 'quit', or Ctrl-D.\", stacklevel=1)\n"
     ]
    }
   ],
   "source": [
    "while 1:\n",
    "\tclock.tick(60)                     # 1초에 60번\n",
    "\tfor event in pygame.event.get():   # 게임 루프를 도는 동안 일어나는 일을 감지 \n",
    "\t\tif event.type == pygame.QUIT:  # 버튼이 눌렸는지 확인. QUIT = X 이이콘 \n",
    "\t\t\tsys.exit()                 # 프로그램 종료\n",
    "\n",
    "\traindrops.append(Raindrop())\n",
    "\tscreen.fill((255,255,255))         # 스크린에 색칠하기. ()로 숫자를 묶는것은 튜플입니다.\n",
    "\tfor raindrop in raindrops:\n",
    "\t\traindrop.move()\n",
    "\t\traindrop.draw()\n",
    "    \n",
    "\tpygame.display.update()    \n",
    "    "
   ]
  },
  {
   "cell_type": "code",
   "execution_count": null,
   "metadata": {},
   "outputs": [],
   "source": []
  }
 ],
 "metadata": {
  "kernelspec": {
   "display_name": "Python 3",
   "language": "python",
   "name": "python3"
  },
  "language_info": {
   "codemirror_mode": {
    "name": "ipython",
    "version": 3
   },
   "file_extension": ".py",
   "mimetype": "text/x-python",
   "name": "python",
   "nbconvert_exporter": "python",
   "pygments_lexer": "ipython3",
   "version": "3.5.2"
  }
 },
 "nbformat": 4,
 "nbformat_minor": 2
}
